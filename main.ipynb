{
 "cells": [
  {
   "cell_type": "markdown",
   "metadata": {},
   "source": [
    "Use Python's Faker library to generate a list of twenty colors. Call it color_list.\n",
    "This is just like using fake.name() in previous episodes, but use fake.color_name() instead. For details, read the Faker docs.\n",
    "Remember to put Faker in your `requirements.txt`, and to install it.\n",
    "Also remember to import it at the top of your code.\n"
   ]
  },
  {
   "cell_type": "code",
   "execution_count": null,
   "metadata": {},
   "outputs": [],
   "source": [
    "from faker import Faker "
   ]
  },
  {
   "cell_type": "markdown",
   "metadata": {},
   "source": [
    "Write a function to remove any duplicates from color_list."
   ]
  },
  {
   "cell_type": "markdown",
   "metadata": {},
   "source": [
    "Once color_list only has unique values (no duplicates), write a function that creates a dictionary from it. Each value in the dictionary should be the name of the color, and its key should be the length of the name. Call it color_dict."
   ]
  },
  {
   "cell_type": "markdown",
   "metadata": {},
   "source": [
    "Write color_dict into a JSON file. Include this file in your GitHub repository."
   ]
  },
  {
   "cell_type": "markdown",
   "metadata": {},
   "source": [
    "Read the color_dict back out of the JSON file and into a Python dictionary."
   ]
  }
 ],
 "metadata": {
  "kernelspec": {
   "display_name": "venv",
   "language": "python",
   "name": "python3"
  },
  "language_info": {
   "name": "python",
   "version": "3.11.5"
  }
 },
 "nbformat": 4,
 "nbformat_minor": 2
}

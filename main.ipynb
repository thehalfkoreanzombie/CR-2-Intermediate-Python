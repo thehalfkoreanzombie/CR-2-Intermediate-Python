{
 "cells": [
  {
   "cell_type": "markdown",
   "metadata": {},
   "source": [
    "Use Python's Faker library to generate a list of twenty colors. Call it color_list.\n",
    "This is just like using fake.name() in previous episodes, but use fake.color_name() instead. "
   ]
  },
  {
   "cell_type": "code",
   "execution_count": 5,
   "metadata": {},
   "outputs": [],
   "source": [
    "from faker import Faker \n",
    "\n",
    "fake = Faker()\n",
    "\n",
    "color_list = []\n",
    "\n",
    "for i in range(20):\n",
    "    color_list.append(fake.color_name())\n",
    "\n",
    "print(color_list)"
   ]
  },
  {
   "cell_type": "markdown",
   "metadata": {},
   "source": [
    "Write a function to remove any duplicates from color_list."
   ]
  },
  {
   "cell_type": "code",
   "execution_count": 8,
   "metadata": {},
   "outputs": [
    {
     "name": "stdout",
     "output_type": "stream",
     "text": [
      "The amount of colors returned is: 19\n"
     ]
    },
    {
     "data": {
      "text/plain": [
       "['PaleGoldenRod',\n",
       " 'Bisque',\n",
       " 'DeepPink',\n",
       " 'Moccasin',\n",
       " 'LightBlue',\n",
       " 'OliveDrab',\n",
       " 'ForestGreen',\n",
       " 'Chocolate',\n",
       " 'MediumVioletRed',\n",
       " 'Azure',\n",
       " 'RosyBrown',\n",
       " 'SlateGray',\n",
       " 'BlanchedAlmond',\n",
       " 'Ivory',\n",
       " 'BlueViolet',\n",
       " 'DarkGoldenRod',\n",
       " 'PapayaWhip',\n",
       " 'HoneyDew',\n",
       " 'Orchid']"
      ]
     },
     "execution_count": 8,
     "metadata": {},
     "output_type": "execute_result"
    }
   ],
   "source": [
    "def remove_dup(list1):\n",
    "    \"\"\"Function to remove duplicate values from any list\"\"\"\n",
    "    list1 = list(set(list1))\n",
    "    print(f\"The amount of colors returned is: {len(list1)}\")\n",
    "    return list1\n",
    "\n",
    "remove_dup(color_list)\n"
   ]
  },
  {
   "cell_type": "markdown",
   "metadata": {},
   "source": [
    "Once color_list only has unique values (no duplicates), write a function that creates a dictionary from it. Each value in the dictionary should be the name of the color, and its key should be the length of the name. Call it color_dict."
   ]
  },
  {
   "cell_type": "code",
   "execution_count": 37,
   "metadata": {},
   "outputs": [
    {
     "data": {
      "text/plain": [
       "{'BlanchedAlmond': 14,\n",
       " 'Azure': 5,\n",
       " 'DeepPink': 8,\n",
       " 'Bisque': 6,\n",
       " 'DarkGoldenRod': 13,\n",
       " 'PapayaWhip': 10,\n",
       " 'Chocolate': 9,\n",
       " 'OliveDrab': 9,\n",
       " 'ForestGreen': 11,\n",
       " 'Ivory': 5,\n",
       " 'Moccasin': 8,\n",
       " 'MediumVioletRed': 15,\n",
       " 'Orchid': 6,\n",
       " 'LightBlue': 9,\n",
       " 'BlueViolet': 10,\n",
       " 'SlateGray': 9,\n",
       " 'PaleGoldenRod': 13,\n",
       " 'RosyBrown': 9,\n",
       " 'HoneyDew': 8}"
      ]
     },
     "execution_count": 37,
     "metadata": {},
     "output_type": "execute_result"
    }
   ],
   "source": [
    "def dict_func(list1):\n",
    "    char_list = []\n",
    "    for k in list1:\n",
    "        char_list.append(len(k))\n",
    "    color_dict = zip(list1, char_list)\n",
    "    return dict(color_dict)\n",
    "\n",
    "dict_func(color_list)        "
   ]
  },
  {
   "cell_type": "markdown",
   "metadata": {},
   "source": [
    "Write color_dict into a JSON file. Include this file in your GitHub repository."
   ]
  },
  {
   "cell_type": "markdown",
   "metadata": {},
   "source": [
    "Read the color_dict back out of the JSON file and into a Python dictionary."
   ]
  }
 ],
 "metadata": {
  "kernelspec": {
   "display_name": "venv",
   "language": "python",
   "name": "python3"
  },
  "language_info": {
   "codemirror_mode": {
    "name": "ipython",
    "version": 3
   },
   "file_extension": ".py",
   "mimetype": "text/x-python",
   "name": "python",
   "nbconvert_exporter": "python",
   "pygments_lexer": "ipython3",
   "version": "3.11.5"
  }
 },
 "nbformat": 4,
 "nbformat_minor": 2
}
